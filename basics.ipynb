{
 "cells": [
  {
   "cell_type": "code",
   "execution_count": 1,
   "id": "951e74f3",
   "metadata": {},
   "outputs": [],
   "source": [
    "import scanpy\n",
    "import pandas\n",
    "import os\n",
    "import matplotlib.pyplot as plt\n",
    "import numpy as np"
   ]
  },
  {
   "cell_type": "code",
   "execution_count": 2,
   "id": "0c539ba0",
   "metadata": {},
   "outputs": [],
   "source": [
    "path = '../120Samples/OriginalData/'\n",
    "data_sets = [f for f in os.listdir(path) if 'h5ad' in f]"
   ]
  },
  {
   "cell_type": "code",
   "execution_count": 3,
   "id": "cf804707",
   "metadata": {},
   "outputs": [
    {
     "data": {
      "text/plain": [
       "['adata_all.h5ad']"
      ]
     },
     "execution_count": 3,
     "metadata": {},
     "output_type": "execute_result"
    }
   ],
   "source": [
    "data_sets"
   ]
  },
  {
   "cell_type": "code",
   "execution_count": 4,
   "id": "36f2b826",
   "metadata": {},
   "outputs": [],
   "source": [
    "cell_types_intersect = set()\n",
    "cell_types_union = set()\n",
    "gene_types_union = set()\n",
    "gene_types_intersect = set()\n",
    "for d in data_sets:\n",
    "#     if 'HC' not in d:\n",
    "#         continue\n",
    "    data = scanpy.read_h5ad(path+d)\n",
    "#     cell_types = [d.obs['ct_cov'][0] for d in data]\n",
    "#     cell_types_unique = set(cell_types)\n",
    "#     if len(cell_types_intersect) == 0:\n",
    "#         cell_types_intersect = cell_types_unique\n",
    "#         gene_types_intersect = set(data.to_df().columns)\n",
    "#     else:\n",
    "#         cell_types_intersect = cell_types_unique.intersection(cell_types_intersect)\n",
    "#         gene_types_intersect = gene_types_intersect.intersection(set(data.to_df().columns))\n",
    "#     cell_types_union = cell_types_unique.union(cell_types_union)\n",
    "#     gene_types_union = gene_types_union.union(set(data.to_df().columns))"
   ]
  },
  {
   "cell_type": "code",
   "execution_count": 8,
   "id": "89e0a095",
   "metadata": {},
   "outputs": [
    {
     "data": {
      "text/plain": [
       "['celltype_sub', 'celltype', 'subject', 'timepoint', '10Xchemistry']"
      ]
     },
     "execution_count": 8,
     "metadata": {},
     "output_type": "execute_result"
    }
   ],
   "source": [
    "list(data[0].obs.columns)"
   ]
  },
  {
   "cell_type": "code",
   "execution_count": 8,
   "id": "cfaf1e0c",
   "metadata": {},
   "outputs": [
    {
     "data": {
      "text/plain": [
       "['B',\n",
       " 'CD4T',\n",
       " 'CD8T',\n",
       " 'DC',\n",
       " 'DNT',\n",
       " 'NK',\n",
       " 'hemapoietic stem',\n",
       " 'megakaryocyte',\n",
       " 'monocyte',\n",
       " 'plasma B']"
      ]
     },
     "execution_count": 8,
     "metadata": {},
     "output_type": "execute_result"
    }
   ],
   "source": [
    "sorted(set(data.obs.celltype))"
   ]
  },
  {
   "cell_type": "code",
   "execution_count": null,
   "id": "01a2a7cc",
   "metadata": {},
   "outputs": [],
   "source": [
    "set(data[:].obs['timepoint'])"
   ]
  },
  {
   "cell_type": "code",
   "execution_count": null,
   "id": "34393891",
   "metadata": {},
   "outputs": [],
   "source": [
    "set(data[data[:].obs['timepoint'] == 'UT'].obs['subject'])"
   ]
  },
  {
   "cell_type": "code",
   "execution_count": null,
   "id": "6b20d5bb",
   "metadata": {},
   "outputs": [],
   "source": [
    "donors = set([d.obs['Donor'][0] for d in data])"
   ]
  },
  {
   "cell_type": "code",
   "execution_count": null,
   "id": "2d85909e",
   "metadata": {},
   "outputs": [],
   "source": []
  },
  {
   "cell_type": "code",
   "execution_count": 17,
   "id": "e253a3f5",
   "metadata": {},
   "outputs": [
    {
     "ename": "IndexError",
     "evalue": "Index dimension must be 1 or 2",
     "output_type": "error",
     "traceback": [
      "\u001b[0;31m---------------------------------------------------------------------------\u001b[0m",
      "\u001b[0;31mIndexError\u001b[0m                                Traceback (most recent call last)",
      "Input \u001b[0;32mIn [17]\u001b[0m, in \u001b[0;36m<cell line: 1>\u001b[0;34m()\u001b[0m\n\u001b[0;32m----> 1\u001b[0m \u001b[43mdata\u001b[49m\u001b[43m[\u001b[49m\u001b[38;5;241;43m300000\u001b[39;49m\u001b[43m:\u001b[49m\u001b[38;5;241;43m310000\u001b[39;49m\u001b[43m]\u001b[49m\u001b[38;5;241;43m.\u001b[39;49m\u001b[43mX\u001b[49m\u001b[43m[\u001b[49m\u001b[38;5;124;43m'\u001b[39;49m\u001b[38;5;124;43mIFNG\u001b[39;49m\u001b[38;5;124;43m'\u001b[39;49m\u001b[43m]\u001b[49m\u001b[38;5;241m.\u001b[39mmax()\n",
      "File \u001b[0;32m~/python_venvs/NATMI/lib/python3.8/site-packages/scipy/sparse/_index.py:47\u001b[0m, in \u001b[0;36mIndexMixin.__getitem__\u001b[0;34m(self, key)\u001b[0m\n\u001b[1;32m     46\u001b[0m \u001b[38;5;28;01mdef\u001b[39;00m \u001b[38;5;21m__getitem__\u001b[39m(\u001b[38;5;28mself\u001b[39m, key):\n\u001b[0;32m---> 47\u001b[0m     row, col \u001b[38;5;241m=\u001b[39m \u001b[38;5;28;43mself\u001b[39;49m\u001b[38;5;241;43m.\u001b[39;49m\u001b[43m_validate_indices\u001b[49m\u001b[43m(\u001b[49m\u001b[43mkey\u001b[49m\u001b[43m)\u001b[49m\n\u001b[1;32m     49\u001b[0m     \u001b[38;5;66;03m# Dispatch to specialized methods.\u001b[39;00m\n\u001b[1;32m     50\u001b[0m     \u001b[38;5;28;01mif\u001b[39;00m \u001b[38;5;28misinstance\u001b[39m(row, INT_TYPES):\n",
      "File \u001b[0;32m~/python_venvs/NATMI/lib/python3.8/site-packages/scipy/sparse/_index.py:159\u001b[0m, in \u001b[0;36mIndexMixin._validate_indices\u001b[0;34m(self, key)\u001b[0m\n\u001b[1;32m    157\u001b[0m         row \u001b[38;5;241m+\u001b[39m\u001b[38;5;241m=\u001b[39m M\n\u001b[1;32m    158\u001b[0m \u001b[38;5;28;01melif\u001b[39;00m \u001b[38;5;129;01mnot\u001b[39;00m \u001b[38;5;28misinstance\u001b[39m(row, \u001b[38;5;28mslice\u001b[39m):\n\u001b[0;32m--> 159\u001b[0m     row \u001b[38;5;241m=\u001b[39m \u001b[38;5;28;43mself\u001b[39;49m\u001b[38;5;241;43m.\u001b[39;49m\u001b[43m_asindices\u001b[49m\u001b[43m(\u001b[49m\u001b[43mrow\u001b[49m\u001b[43m,\u001b[49m\u001b[43m \u001b[49m\u001b[43mM\u001b[49m\u001b[43m)\u001b[49m\n\u001b[1;32m    161\u001b[0m \u001b[38;5;28;01mif\u001b[39;00m isintlike(col):\n\u001b[1;32m    162\u001b[0m     col \u001b[38;5;241m=\u001b[39m \u001b[38;5;28mint\u001b[39m(col)\n",
      "File \u001b[0;32m~/python_venvs/NATMI/lib/python3.8/site-packages/scipy/sparse/_index.py:183\u001b[0m, in \u001b[0;36mIndexMixin._asindices\u001b[0;34m(self, idx, length)\u001b[0m\n\u001b[1;32m    180\u001b[0m     \u001b[38;5;28;01mraise\u001b[39;00m \u001b[38;5;167;01mIndexError\u001b[39;00m(\u001b[38;5;124m'\u001b[39m\u001b[38;5;124minvalid index\u001b[39m\u001b[38;5;124m'\u001b[39m) \u001b[38;5;28;01mfrom\u001b[39;00m \u001b[38;5;21;01me\u001b[39;00m\n\u001b[1;32m    182\u001b[0m \u001b[38;5;28;01mif\u001b[39;00m x\u001b[38;5;241m.\u001b[39mndim \u001b[38;5;129;01mnot\u001b[39;00m \u001b[38;5;129;01min\u001b[39;00m (\u001b[38;5;241m1\u001b[39m, \u001b[38;5;241m2\u001b[39m):\n\u001b[0;32m--> 183\u001b[0m     \u001b[38;5;28;01mraise\u001b[39;00m \u001b[38;5;167;01mIndexError\u001b[39;00m(\u001b[38;5;124m'\u001b[39m\u001b[38;5;124mIndex dimension must be 1 or 2\u001b[39m\u001b[38;5;124m'\u001b[39m)\n\u001b[1;32m    185\u001b[0m \u001b[38;5;28;01mif\u001b[39;00m x\u001b[38;5;241m.\u001b[39msize \u001b[38;5;241m==\u001b[39m \u001b[38;5;241m0\u001b[39m:\n\u001b[1;32m    186\u001b[0m     \u001b[38;5;28;01mreturn\u001b[39;00m x\n",
      "\u001b[0;31mIndexError\u001b[0m: Index dimension must be 1 or 2"
     ]
    }
   ],
   "source": [
    "data[300000:310000].X['IFNG'].max()"
   ]
  },
  {
   "cell_type": "code",
   "execution_count": null,
   "id": "a41db7a8",
   "metadata": {},
   "outputs": [],
   "source": [
    "for d in data_sets:\n",
    "    if 'batch0' not in d:\n",
    "        continue\n",
    "    data = scanpy.read_h5ad(path+d)\n",
    "    expression = data.to_df().to_numpy()\n",
    "    expression[expression == 0.0] = np.nan\n",
    "    plt.plot(np.log2(np.nanmax(expression, axis=0)))\n",
    "    for cell_type in cell_types_intersect:\n",
    "        mask = data.obs['ct_cov'] == cell_type\n",
    "        cells = data[mask]\n",
    "        print(cell_type + ': ' + str(len(cells)))\n",
    "        mean_expression = cells.to_df().mean()\n",
    "#         plt.plot(mean_expression)\n",
    "#         plt.show()\n",
    "    print('----------------')\n",
    "    "
   ]
  },
  {
   "cell_type": "code",
   "execution_count": null,
   "id": "887ea263",
   "metadata": {},
   "outputs": [],
   "source": [
    "len(gene_types_intersect)"
   ]
  },
  {
   "cell_type": "code",
   "execution_count": null,
   "id": "24243f80",
   "metadata": {},
   "outputs": [],
   "source": [
    "data_df = data.to_df()\n",
    "gene_names = [dc for dc in data_df.columns]\n",
    "print(gene_names)"
   ]
  },
  {
   "cell_type": "code",
   "execution_count": null,
   "id": "9f5434ed",
   "metadata": {},
   "outputs": [],
   "source": [
    "cell_types = [d.obs['ct_cov'][0] for d in data]"
   ]
  },
  {
   "cell_type": "code",
   "execution_count": null,
   "id": "8d060910",
   "metadata": {},
   "outputs": [],
   "source": [
    "cell_types_unique = set(cell_types)"
   ]
  },
  {
   "cell_type": "code",
   "execution_count": null,
   "id": "18411a44",
   "metadata": {},
   "outputs": [],
   "source": [
    "cell_types_unique"
   ]
  },
  {
   "cell_type": "code",
   "execution_count": null,
   "id": "9f5b91e7",
   "metadata": {},
   "outputs": [],
   "source": []
  }
 ],
 "metadata": {
  "kernelspec": {
   "display_name": "Python 3 (ipykernel)",
   "language": "python",
   "name": "python3"
  },
  "language_info": {
   "codemirror_mode": {
    "name": "ipython",
    "version": 3
   },
   "file_extension": ".py",
   "mimetype": "text/x-python",
   "name": "python",
   "nbconvert_exporter": "python",
   "pygments_lexer": "ipython3",
   "version": "3.8.10"
  }
 },
 "nbformat": 4,
 "nbformat_minor": 5
}
